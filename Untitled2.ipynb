{
 "cells": [
  {
   "cell_type": "code",
   "execution_count": 2,
   "metadata": {},
   "outputs": [
    {
     "name": "stdout",
     "output_type": "stream",
     "text": [
      "100\n"
     ]
    }
   ],
   "source": [
    "def area(l,b):\n",
    "    a=l*b\n",
    "    return a\n",
    "\n",
    "def volume(l,b,h):\n",
    "    v=area(l,b)*h\n",
    "    return v\n",
    "l=10\n",
    "b=5\n",
    "h=2\n",
    "#print(area(l,b))\n",
    "print(volume(l,b,h))"
   ]
  },
  {
   "cell_type": "code",
   "execution_count": 3,
   "metadata": {},
   "outputs": [
    {
     "name": "stdout",
     "output_type": "stream",
     "text": [
      "hello world\n",
      "Enter y for more print =y\n",
      "hello world\n",
      "Enter y for more print =a\n"
     ]
    }
   ],
   "source": [
    "#Recusrsive Function\n",
    "def hello():\n",
    "    print(\"hello world\")\n",
    "    x=input(\"Enter y for more print =\")\n",
    "    \n",
    "    if x == 'y':\n",
    "        hello()\n",
    "\n",
    "hello()"
   ]
  },
  {
   "cell_type": "code",
   "execution_count": 2,
   "metadata": {},
   "outputs": [
    {
     "name": "stdout",
     "output_type": "stream",
     "text": [
      "Enter p= 10\n",
      "Enter t= 10\n",
      "Enter r= 10\n",
      "The value of i = 10.0\n",
      "Enter y for more printy\n",
      "Enter p= 10\n",
      "Enter t= 10\n",
      "Enter r= 10\n",
      "The value of i = 10.0\n",
      "Enter y for more printx\n"
     ]
    }
   ],
   "source": [
    "#recursive function\n",
    "def hello():\n",
    "    p=float(input(\"Enter p= \"))\n",
    "    t=float(input(\"Enter t= \"))\n",
    "    r=float(input(\"Enter r= \"))\n",
    "    i=p*t*r/100\n",
    "    print(\"The value of i =\",i)\n",
    "    x=input(\"Enter y for more print\")\n",
    "    if x=='y':\n",
    "       hello()\n",
    "hello()"
   ]
  },
  {
   "cell_type": "code",
   "execution_count": 7,
   "metadata": {},
   "outputs": [
    {
     "name": "stdout",
     "output_type": "stream",
     "text": [
      "3.141592653589793\n"
     ]
    }
   ],
   "source": [
    "# Math Functions\n",
    "import math as m\n",
    "print(m.pi)"
   ]
  },
  {
   "cell_type": "code",
   "execution_count": 8,
   "metadata": {},
   "outputs": [
    {
     "name": "stdout",
     "output_type": "stream",
     "text": [
      "Enter r=10\n",
      "The area of the circle is = 314.1592653589793\n"
     ]
    }
   ],
   "source": [
    "import math as m\n",
    "r=int(input (\"Enter r=\"))\n",
    "a=m.pi*m.pow(r,2)\n",
    "print(\"The area of the circle is =\",a)\n"
   ]
  },
  {
   "cell_type": "code",
   "execution_count": 9,
   "metadata": {},
   "outputs": [
    {
     "name": "stdout",
     "output_type": "stream",
     "text": [
      "1.0\n"
     ]
    }
   ],
   "source": [
    "import math as m\n",
    "a=m.pi/2\n",
    "print(m.sin(a))"
   ]
  },
  {
   "cell_type": "code",
   "execution_count": 12,
   "metadata": {},
   "outputs": [
    {
     "name": "stdout",
     "output_type": "stream",
     "text": [
      "1.0\n"
     ]
    }
   ],
   "source": [
    "import math as m\n",
    "a = m.sin(m.pi/2)\n",
    "b = m.cos(m.pi/2)\n",
    "c = m.pow(a,2)+m.pow(b,2)\n",
    "print(c)"
   ]
  },
  {
   "cell_type": "code",
   "execution_count": null,
   "metadata": {},
   "outputs": [],
   "source": [
    "\n"
   ]
  }
 ],
 "metadata": {
  "kernelspec": {
   "display_name": "Python 3",
   "language": "python",
   "name": "python3"
  },
  "language_info": {
   "codemirror_mode": {
    "name": "ipython",
    "version": 3
   },
   "file_extension": ".py",
   "mimetype": "text/x-python",
   "name": "python",
   "nbconvert_exporter": "python",
   "pygments_lexer": "ipython3",
   "version": "3.8.5"
  }
 },
 "nbformat": 4,
 "nbformat_minor": 4
}
