{
 "cells": [
  {
   "cell_type": "code",
   "execution_count": 1,
   "metadata": {},
   "outputs": [
    {
     "ename": "SyntaxError",
     "evalue": "invalid syntax (<ipython-input-1-b790ddcf0458>, line 2)",
     "output_type": "error",
     "traceback": [
      "\u001b[1;36m  File \u001b[1;32m\"<ipython-input-1-b790ddcf0458>\"\u001b[1;36m, line \u001b[1;32m2\u001b[0m\n\u001b[1;33m    while <condition>:\u001b[0m\n\u001b[1;37m          ^\u001b[0m\n\u001b[1;31mSyntaxError\u001b[0m\u001b[1;31m:\u001b[0m invalid syntax\n"
     ]
    }
   ],
   "source": [
    "# #while loop\n",
    "# while <condition>:\n",
    "# #operations\n",
    "\n",
    "    \n",
    "    "
   ]
  },
  {
   "cell_type": "code",
   "execution_count": 3,
   "metadata": {},
   "outputs": [
    {
     "name": "stdout",
     "output_type": "stream",
     "text": [
      "Hello World\n",
      "Hello World\n",
      "Hello World\n"
     ]
    }
   ],
   "source": [
    "a = 0\n",
    "while a<5:\n",
    "    print(\"Hello World\")\n",
    "    a = a+2"
   ]
  },
  {
   "cell_type": "code",
   "execution_count": 6,
   "metadata": {},
   "outputs": [
    {
     "name": "stdout",
     "output_type": "stream",
     "text": [
      "Enter the value of n=4\n",
      "Enter x=12\n",
      "Enter x=12\n",
      "Enter x=23\n",
      "Enter x=234\n",
      "281\n"
     ]
    }
   ],
   "source": [
    "s=0\n",
    "i=0\n",
    "n=int(input(\"Enter the value of n=\"))\n",
    "\n",
    "while i<n:\n",
    "    x = int(input(\"Enter x=\"))\n",
    "    s=s+x\n",
    "    i = i+1\n",
    "print(s)\n"
   ]
  },
  {
   "cell_type": "code",
   "execution_count": 1,
   "metadata": {},
   "outputs": [
    {
     "name": "stdout",
     "output_type": "stream",
     "text": [
      "Enter the value of n=3\n",
      "3 * 1 = 3\n",
      "3 * 2 = 6\n",
      "3 * 3 = 9\n",
      "3 * 4 = 12\n",
      "3 * 5 = 15\n",
      "3 * 6 = 18\n",
      "3 * 7 = 21\n",
      "3 * 8 = 24\n",
      "3 * 9 = 27\n",
      "3 * 10 = 30\n"
     ]
    }
   ],
   "source": [
    "#multiple table\n",
    "i=1\n",
    "n=int(input(\"Enter the value of n=\"))\n",
    "while i<=10:\n",
    "    print(n,\"*\",i,\"=\",n*i)\n",
    "    i=i+1"
   ]
  },
  {
   "cell_type": "code",
   "execution_count": 5,
   "metadata": {},
   "outputs": [
    {
     "name": "stdout",
     "output_type": "stream",
     "text": [
      "Enter n = 2\n",
      "Enter name = rma \n",
      "Enter phone 1231\n",
      "Enter name = shy\n",
      "Enter phone 12312\n",
      "1 rma  1231\n",
      "2 shy 12312\n",
      "\n"
     ]
    }
   ],
   "source": [
    "s = \"\"\n",
    "i = 1\n",
    "n = int(input(\"Enter n = \"))\n",
    "while i<=n:\n",
    "    name = input(\"Enter name = \")\n",
    "    phone = input(\"Enter phone \")\n",
    "    s =s+str(i)+\" \"+name+\" \" +phone+\"\\n\"  #using + for too concate /store number\n",
    "    i = i+1\n",
    "print(s)"
   ]
  },
  {
   "cell_type": "markdown",
   "metadata": {},
   "source": [
    "# 4! = 1*2*3*4\n",
    "fac = 1\n",
    "n = int(input(\"Enter n = \"))\n",
    "for i in range(1,n+1):\n",
    "    fac = fac*i\n",
    "    \n",
    "print(fac)"
   ]
  },
  {
   "cell_type": "code",
   "execution_count": 3,
   "metadata": {},
   "outputs": [
    {
     "name": "stdout",
     "output_type": "stream",
     "text": [
      "Enter n = 09\n",
      "362880\n"
     ]
    }
   ],
   "source": [
    "# 4! = 1*2*3*4\n",
    "i = 1\n",
    "fac = 1\n",
    "n = int(input(\"Enter n = \"))\n",
    "while i<=n:\n",
    "    fac = fac*i\n",
    "    i=i+1\n",
    "print(fac)"
   ]
  },
  {
   "cell_type": "code",
   "execution_count": 1,
   "metadata": {},
   "outputs": [
    {
     "name": "stdout",
     "output_type": "stream",
     "text": [
      "5 Hello world\n",
      "4 Hello world\n",
      "3 Hello world\n",
      "2 Hello world\n",
      "1 Hello world\n"
     ]
    }
   ],
   "source": [
    "i = 5\n",
    "while i>=1:\n",
    "    print(i,\"Hello world\")\n",
    "    i = i-1"
   ]
  },
  {
   "cell_type": "code",
   "execution_count": 8,
   "metadata": {},
   "outputs": [
    {
     "name": "stdout",
     "output_type": "stream",
     "text": [
      "Enter any word=hasihdausd\n",
      "dsuadhisah"
     ]
    }
   ],
   "source": [
    "a = input(\"Enter any word=\")\n",
    "n = len(a)-1 #length of a too know number of character\n",
    "while n>=0:\n",
    "    print(n,a[n])\n",
    "    n = n-1"
   ]
  },
  {
   "cell_type": "code",
   "execution_count": 9,
   "metadata": {},
   "outputs": [
    {
     "name": "stdout",
     "output_type": "stream",
     "text": [
      "Enter any word=hellow\n",
      "wolleh"
     ]
    }
   ],
   "source": [
    "a = input(\"Enter any word=\")\n",
    "n = len(a)-1 #length of a too know number of character\n",
    "while n>=0:\n",
    "    print(a[n],end = \"\")\n",
    "    n = n-1"
   ]
  },
  {
   "cell_type": "code",
   "execution_count": 10,
   "metadata": {},
   "outputs": [],
   "source": [
    "# control statement\n",
    "# break continue pass\n"
   ]
  },
  {
   "cell_type": "code",
   "execution_count": 8,
   "metadata": {},
   "outputs": [
    {
     "name": "stdout",
     "output_type": "stream",
     "text": [
      "Hellow"
     ]
    }
   ],
   "source": [
    "#break\n",
    "a = \"Hellow World\"\n",
    "for i in a:\n",
    "    if i ==\" \":\n",
    "        break\n",
    "    print(i,end=\"\")"
   ]
  },
  {
   "cell_type": "code",
   "execution_count": 5,
   "metadata": {},
   "outputs": [
    {
     "name": "stdout",
     "output_type": "stream",
     "text": [
      "HellowWorld"
     ]
    }
   ],
   "source": [
    "#break\n",
    "a = \"Hellow World\"\n",
    "for i in a:\n",
    "    if i ==\" \":\n",
    "        continue\n",
    "        \n",
    "    print(i,end=\"\")"
   ]
  },
  {
   "cell_type": "code",
   "execution_count": null,
   "metadata": {},
   "outputs": [],
   "source": []
  },
  {
   "cell_type": "code",
   "execution_count": 7,
   "metadata": {},
   "outputs": [
    {
     "name": "stdout",
     "output_type": "stream",
     "text": [
      "5\n",
      "10\n",
      "15\n",
      "20\n",
      "25\n",
      "30\n",
      "35\n",
      "40\n",
      "45\n",
      "50\n"
     ]
    }
   ],
   "source": [
    "for i in range(1,51):\n",
    "    if i%5 != 0:\n",
    "        continue\n",
    "    print(i)"
   ]
  },
  {
   "cell_type": "code",
   "execution_count": 2,
   "metadata": {},
   "outputs": [
    {
     "name": "stdout",
     "output_type": "stream",
     "text": [
      "Apple\n",
      "Cat\n"
     ]
    }
   ],
   "source": [
    "a=[\"Apple\",\"Ball\",\"Cat\",\"Ball\"]\n",
    "for i in a:\n",
    "    if i == \"Ball\":\n",
    "        continue\n",
    "    print(i)"
   ]
  },
  {
   "cell_type": "code",
   "execution_count": 8,
   "metadata": {},
   "outputs": [
    {
     "name": "stdout",
     "output_type": "stream",
     "text": [
      "Enter the value=2\n",
      "this is prime\n"
     ]
    }
   ],
   "source": [
    "n = int(input(\"Enter the value=\"))\n",
    "if n>2:\n",
    "    for i in range(2,n//2+2):\n",
    "        if n%i==0:\n",
    "            print(\"this is composite\")\n",
    "            break\n",
    "    else: #for else loop\n",
    "        print(\"This is prime\")\n",
    "            \n",
    "else:\n",
    "    print(\"this is prime\")#number 2 ko lagi"
   ]
  },
  {
   "cell_type": "code",
   "execution_count": 11,
   "metadata": {},
   "outputs": [],
   "source": [
    "def call():\n",
    "    pass\n",
    "call()"
   ]
  },
  {
   "cell_type": "code",
   "execution_count": 13,
   "metadata": {},
   "outputs": [],
   "source": [
    "for i in range(5):\n",
    "    pass\n"
   ]
  },
  {
   "cell_type": "code",
   "execution_count": 15,
   "metadata": {},
   "outputs": [
    {
     "name": "stdout",
     "output_type": "stream",
     "text": [
      "b is greater\n"
     ]
    }
   ],
   "source": [
    "a = 10\n",
    "b = 20\n",
    "if a<b:\n",
    "    #too do\n",
    "    pass\n",
    "    print(\"b is greater\")\n",
    "else:\n",
    "    pass"
   ]
  },
  {
   "cell_type": "code",
   "execution_count": null,
   "metadata": {},
   "outputs": [],
   "source": []
  }
 ],
 "metadata": {
  "kernelspec": {
   "display_name": "Python 3",
   "language": "python",
   "name": "python3"
  },
  "language_info": {
   "codemirror_mode": {
    "name": "ipython",
    "version": 3
   },
   "file_extension": ".py",
   "mimetype": "text/x-python",
   "name": "python",
   "nbconvert_exporter": "python",
   "pygments_lexer": "ipython3",
   "version": "3.8.5"
  }
 },
 "nbformat": 4,
 "nbformat_minor": 4
}
