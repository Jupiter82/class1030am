{
 "cells": [
  {
   "cell_type": "code",
   "execution_count": 1,
   "metadata": {},
   "outputs": [],
   "source": [
    "# for(i=0,i<5,i++)\n"
   ]
  },
  {
   "cell_type": "code",
   "execution_count": 2,
   "metadata": {},
   "outputs": [
    {
     "data": {
      "text/plain": [
       "range(1, 5)"
      ]
     },
     "execution_count": 2,
     "metadata": {},
     "output_type": "execute_result"
    }
   ],
   "source": [
    "# range(5)\n",
    "# range(1,5)"
   ]
  },
  {
   "cell_type": "code",
   "execution_count": 2,
   "metadata": {},
   "outputs": [
    {
     "name": "stdout",
     "output_type": "stream",
     "text": [
      "0 hellow world\n",
      "1 hellow world\n",
      "2 hellow world\n",
      "3 hellow world\n",
      "4 hellow world\n"
     ]
    }
   ],
   "source": [
    "# for(i=0,i<5,i++)\n",
    "\n",
    "for i in range(5):\n",
    "    print(i,\"hellow world\")"
   ]
  },
  {
   "cell_type": "code",
   "execution_count": 3,
   "metadata": {},
   "outputs": [
    {
     "name": "stdout",
     "output_type": "stream",
     "text": [
      "1 hellow world\n",
      "2 hellow world\n",
      "3 hellow world\n",
      "4 hellow world\n"
     ]
    }
   ],
   "source": [
    "#for(i=0,i<5,i++)\n",
    "    \n",
    "for i in range(1,5):\n",
    "    print(i,\"hellow world\")"
   ]
  },
  {
   "cell_type": "code",
   "execution_count": 8,
   "metadata": {},
   "outputs": [
    {
     "name": "stdout",
     "output_type": "stream",
     "text": [
      "1 hellow world\n",
      "3 hellow world\n"
     ]
    }
   ],
   "source": [
    "#for(i=0,i<5,i+2)\n",
    "for i in range(1,5,2):\n",
    "    print(i,\"hellow world\")"
   ]
  },
  {
   "cell_type": "code",
   "execution_count": null,
   "metadata": {},
   "outputs": [],
   "source": [
    "int(t(\"Enter the value of n=\"))\n",
    "\n",
    "for i in range(n):\n",
    "    x = int(input(\"Enter x=\"))\n",
    "    s=s+x\n",
    "print(s)"
   ]
  }
 ],
 "metadata": {
  "kernelspec": {
   "display_name": "Python 3",
   "language": "python",
   "name": "python3"
  },
  "language_info": {
   "codemirror_mode": {
    "name": "ipython",
    "version": 3
   },
   "file_extension": ".py",
   "mimetype": "text/x-python",
   "name": "python",
   "nbconvert_exporter": "python",
   "pygments_lexer": "ipython3",
   "version": "3.8.5"
  }
 },
 "nbformat": 4,
 "nbformat_minor": 4
}
