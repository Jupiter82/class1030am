{
 "cells": [
  {
   "cell_type": "code",
   "execution_count": 1,
   "metadata": {},
   "outputs": [
    {
     "name": "stdout",
     "output_type": "stream",
     "text": [
      "[[], [], [], []]\n",
      "<class 'list'>\n",
      "4\n"
     ]
    }
   ],
   "source": [
    "a = [[],[],[],[]]\n",
    "print(a)\n",
    "print(type(a))\n",
    "print(len(a))"
   ]
  },
  {
   "cell_type": "code",
   "execution_count": 3,
   "metadata": {},
   "outputs": [
    {
     "name": "stdout",
     "output_type": "stream",
     "text": [
      "[4, 5, 6]\n"
     ]
    }
   ],
   "source": [
    "a = [[1,2,3],\n",
    "    [4,5,6],\n",
    "    [7,8,9]]\n",
    "print(a[1])"
   ]
  },
  {
   "cell_type": "code",
   "execution_count": 4,
   "metadata": {},
   "outputs": [
    {
     "name": "stdout",
     "output_type": "stream",
     "text": [
      "5\n"
     ]
    }
   ],
   "source": [
    "a = [[1,2,3],\n",
    "    [4,5,6],\n",
    "    [7,8,9]]\n",
    "print(a[1][1])"
   ]
  },
  {
   "cell_type": "code",
   "execution_count": 5,
   "metadata": {},
   "outputs": [
    {
     "name": "stdout",
     "output_type": "stream",
     "text": [
      "enter n =2\n",
      "Enter name =jupiter\n",
      "enter phone =09090\n",
      "Enter name =ram\n",
      "enter phone =454545\n",
      "[['jupiter', 9090], ['ram', 454545]]\n"
     ]
    }
   ],
   "source": [
    "data = []\n",
    "n = int(input(\"enter n =\"))\n",
    "for i in range(n):\n",
    "    name = input(\"Enter name =\")\n",
    "    phone = int(input(\"enter phone =\"))\n",
    "    info =[name,phone]\n",
    "    data.append(info)\n",
    "print(data)"
   ]
  },
  {
   "cell_type": "markdown",
   "metadata": {},
   "source": [
    "a = [[   "
   ]
  },
  {
   "cell_type": "raw",
   "metadata": {},
   "source": [
    "a = [[\"Ram\","
   ]
  }
 ],
 "metadata": {
  "kernelspec": {
   "display_name": "Python 3",
   "language": "python",
   "name": "python3"
  },
  "language_info": {
   "codemirror_mode": {
    "name": "ipython",
    "version": 3
   },
   "file_extension": ".py",
   "mimetype": "text/x-python",
   "name": "python",
   "nbconvert_exporter": "python",
   "pygments_lexer": "ipython3",
   "version": "3.8.5"
  }
 },
 "nbformat": 4,
 "nbformat_minor": 4
}
