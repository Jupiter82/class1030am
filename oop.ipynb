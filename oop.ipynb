{
 "cells": [
  {
   "cell_type": "code",
   "execution_count": 2,
   "metadata": {},
   "outputs": [],
   "source": [
    "class Hello:\n",
    "    pass\n",
    "obj = Hello()"
   ]
  },
  {
   "cell_type": "code",
   "execution_count": null,
   "metadata": {},
   "outputs": [],
   "source": []
  },
  {
   "cell_type": "code",
   "execution_count": 2,
   "metadata": {},
   "outputs": [
    {
     "name": "stdout",
     "output_type": "stream",
     "text": [
      "Hellow world\n"
     ]
    }
   ],
   "source": [
    "class Hello:\n",
    "    print(\"Hellow world\")\n",
    "obj = Hello()"
   ]
  },
  {
   "cell_type": "code",
   "execution_count": 2,
   "metadata": {},
   "outputs": [
    {
     "name": "stdout",
     "output_type": "stream",
     "text": [
      "Hellow world\n"
     ]
    }
   ],
   "source": [
    "class Hello:\n",
    "    def hello(self):\n",
    "        print(\"Hellow world\")\n",
    "obj = Hello()\n",
    "obj.hello()"
   ]
  },
  {
   "cell_type": "code",
   "execution_count": null,
   "metadata": {},
   "outputs": [],
   "source": []
  },
  {
   "cell_type": "code",
   "execution_count": 3,
   "metadata": {},
   "outputs": [
    {
     "name": "stdout",
     "output_type": "stream",
     "text": [
      "Hellow world\n"
     ]
    }
   ],
   "source": [
    "class Hello:\n",
    "    def hello(s):\n",
    "        print(\"Hellow world\")\n",
    "obj = Hello()\n",
    "obj.hello()"
   ]
  },
  {
   "cell_type": "code",
   "execution_count": 4,
   "metadata": {},
   "outputs": [
    {
     "name": "stdout",
     "output_type": "stream",
     "text": [
      "Hello world\n"
     ]
    }
   ],
   "source": [
    "class Hello:\n",
    "    def hello(self,x):\n",
    "        print(x)\n",
    "obj = Hello()\n",
    "obj.hello(\"Hello world\")"
   ]
  },
  {
   "cell_type": "code",
   "execution_count": 5,
   "metadata": {},
   "outputs": [
    {
     "name": "stdout",
     "output_type": "stream",
     "text": [
      "Enter length = 10\n",
      "Enter breath = 10\n",
      "Enter height = 10\n",
      "The area is =  100\n",
      "The volume is =  1000\n"
     ]
    }
   ],
   "source": [
    "class Cal:\n",
    "    def area(self,l,b):\n",
    "        a = l*b\n",
    "        print(\"The area is = \",a)\n",
    "    def volume(self,l,b,h):\n",
    "        v = l*b*h\n",
    "        print(\"The volume is = \",v)\n",
    "obj = Cal()   \n",
    "l = int(input(\"Enter length = \"))\n",
    "b = int(input(\"Enter breath = \"))\n",
    "h = int(input(\"Enter height = \"))\n",
    "obj.area(l,b)\n",
    "obj.volume(l,b,h)"
   ]
  },
  {
   "cell_type": "code",
   "execution_count": 8,
   "metadata": {},
   "outputs": [
    {
     "name": "stdout",
     "output_type": "stream",
     "text": [
      "Enter length = 10\n",
      "Enter breath = 10\n",
      "Enter height = 10\n",
      "The area is =  100\n",
      "The volume is =  1000\n"
     ]
    }
   ],
   "source": [
    "class Area:\n",
    "    def area(self,l,b):\n",
    "        a = l*b\n",
    "        print(\"The area is = \",a)\n",
    "class Volume:\n",
    "    def volume(self,l,b,h):\n",
    "        v = l*b*h\n",
    "        print(\"The volume is = \",v)\n",
    "obj = Area()  \n",
    "obj1 = Volume()\n",
    "l = int(input(\"Enter length = \"))\n",
    "b = int(input(\"Enter breath = \"))\n",
    "h = int(input(\"Enter height = \"))\n",
    "obj.area(l,b)\n",
    "obj1.volume(l,b,h)"
   ]
  },
  {
   "cell_type": "code",
   "execution_count": 1,
   "metadata": {},
   "outputs": [
    {
     "name": "stdout",
     "output_type": "stream",
     "text": [
      "Enter length = 10\n",
      "Enter breath = 10\n",
      "Enter height = 10\n",
      "The area is =  100\n",
      "The volume is =  1000\n"
     ]
    }
   ],
   "source": [
    "class Cal:\n",
    "    def __init__(self,l,b,h):\n",
    "        self.l = l\n",
    "        self.b = b\n",
    "        self.h = h\n",
    "        \n",
    "        \n",
    "    def area(self):\n",
    "        a = self.l*self.b\n",
    "        print(\"The area is = \",a)\n",
    "    def volume(this):\n",
    "        v = this.l*this.b*this.h\n",
    "        print(\"The volume is = \",v)\n",
    "   \n",
    "l = int(input(\"Enter length = \"))\n",
    "b = int(input(\"Enter breath = \"))\n",
    "h = int(input(\"Enter height = \"))\n",
    "\n",
    "obj = Cal(l,b,h)\n",
    "obj.area()\n",
    "obj.volume()"
   ]
  },
  {
   "cell_type": "code",
   "execution_count": 4,
   "metadata": {},
   "outputs": [
    {
     "name": "stdout",
     "output_type": "stream",
     "text": [
      "Enter length = 10\n",
      "Enter breath = 10\n",
      "Enter height = 10\n",
      "The area is =  100\n",
      "The volume is =  1000\n"
     ]
    }
   ],
   "source": [
    "class Area:\n",
    "    def __init__(self,l,b):\n",
    "        self.l = l\n",
    "        self.b = b\n",
    "        \n",
    "        \n",
    "    def area(self):\n",
    "        a = self.l*self.b\n",
    "        print(\"The area is = \",a)\n",
    "        \n",
    "class Volume:\n",
    "    def __init__(self,l,b,h):\n",
    "        self.l = l\n",
    "        self.b = b\n",
    "        self.h = h\n",
    "        \n",
    "    def volume(this):\n",
    "        v = this.l*this.b*this.h\n",
    "        print(\"The volume is = \",v)\n",
    "   \n",
    "l = int(input(\"Enter length = \"))\n",
    "b = int(input(\"Enter breath = \"))\n",
    "h = int(input(\"Enter height = \"))\n",
    "\n",
    "obj = Area(l,b)\n",
    "obj1 = Volume(l,b,h)\n",
    "obj.area()\n",
    "obj1.volume()"
   ]
  },
  {
   "cell_type": "code",
   "execution_count": 4,
   "metadata": {},
   "outputs": [
    {
     "name": "stdout",
     "output_type": "stream",
     "text": [
      "Ram\n"
     ]
    }
   ],
   "source": [
    "class Info:\n",
    "    def __init__(self,name,age,address):\n",
    "        self.name = name\n",
    "        self.age = age\n",
    "        self.address = address\n",
    "    def __str__ (self):\n",
    "        return self.name\n",
    "name = \"Ram\"\n",
    "age = 56\n",
    "address = \"Nepal\"\n",
    "obj = Info(name,age,address)\n",
    "print(obj)"
   ]
  },
  {
   "cell_type": "code",
   "execution_count": 6,
   "metadata": {},
   "outputs": [
    {
     "name": "stdout",
     "output_type": "stream",
     "text": [
      "Ram Nepal\n",
      "Ram Nepal\n",
      "Ram Nepal\n"
     ]
    }
   ],
   "source": [
    "class Info:\n",
    "    def __init__(self,name,age,address):\n",
    "        self.name = name\n",
    "        self.age = age\n",
    "        self.address = address\n",
    "    def __str__ (self):\n",
    "        return f\"{self.name} {self.address}\"\n",
    "name = \"Ram\"\n",
    "age = 56\n",
    "address = \"Nepal\"\n",
    "obj = Info(name,age,address)\n",
    "print(obj)\n",
    "print(obj.__str__())\n",
    "print(str(obj))"
   ]
  },
  {
   "cell_type": "code",
   "execution_count": null,
   "metadata": {},
   "outputs": [],
   "source": []
  }
 ],
 "metadata": {
  "kernelspec": {
   "display_name": "Python 3",
   "language": "python",
   "name": "python3"
  },
  "language_info": {
   "codemirror_mode": {
    "name": "ipython",
    "version": 3
   },
   "file_extension": ".py",
   "mimetype": "text/x-python",
   "name": "python",
   "nbconvert_exporter": "python",
   "pygments_lexer": "ipython3",
   "version": "3.8.5"
  }
 },
 "nbformat": 4,
 "nbformat_minor": 4
}
