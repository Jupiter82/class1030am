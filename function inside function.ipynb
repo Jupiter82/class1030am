{
 "cells": [
  {
   "cell_type": "code",
   "execution_count": 6,
   "metadata": {},
   "outputs": [
    {
     "name": "stdout",
     "output_type": "stream",
     "text": [
      "Hello World\n"
     ]
    }
   ],
   "source": [
    "def outer_function(fun):\n",
    "    \n",
    "    def inner_function():\n",
    "        x = fun()\n",
    "    return inner_function()\n",
    "\n",
    "@outer_function #decorater\n",
    "def hello():\n",
    "    print(\"Hello World\")"
   ]
  },
  {
   "cell_type": "code",
   "execution_count": 11,
   "metadata": {},
   "outputs": [
    {
     "data": {
      "text/plain": [
       "'HELLO WORLD'"
      ]
     },
     "execution_count": 11,
     "metadata": {},
     "output_type": "execute_result"
    }
   ],
   "source": [
    "def string(function):\n",
    "    def wrapper():\n",
    "        fun = function()\n",
    "        x = fun.upper()\n",
    "        return x\n",
    "    return wrapper\n",
    "@string\n",
    "def info():\n",
    "    return \"Hello World\"\n",
    "info()\n"
   ]
  },
  {
   "cell_type": "code",
   "execution_count": null,
   "metadata": {},
   "outputs": [],
   "source": [
    "def string(function):\n",
    "    def wrapper():\n",
    "        fun = function()\n",
    "        x = fun.upper()\n",
    "        return x\n",
    "    return wrapper\n",
    "def split_string(fuction):\n",
    "    def wrappe():\n",
    "        func = function()\n",
    "        splitted_string = func.split()\n",
    "        return splitted \n",
    "@string\n",
    "def info():\n",
    "    return \"Hello World\"\n",
    "info()\n",
    "\n"
   ]
  }
 ],
 "metadata": {
  "kernelspec": {
   "display_name": "Python 3",
   "language": "python",
   "name": "python3"
  },
  "language_info": {
   "codemirror_mode": {
    "name": "ipython",
    "version": 3
   },
   "file_extension": ".py",
   "mimetype": "text/x-python",
   "name": "python",
   "nbconvert_exporter": "python",
   "pygments_lexer": "ipython3",
   "version": "3.8.5"
  }
 },
 "nbformat": 4,
 "nbformat_minor": 4
}
