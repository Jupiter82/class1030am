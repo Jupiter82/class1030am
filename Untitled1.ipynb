{
 "cells": [
  {
   "cell_type": "code",
   "execution_count": 1,
   "metadata": {},
   "outputs": [],
   "source": [
    "# def <function_name>():\n",
    "# <operations>\n",
    "# ......\n",
    "# ......\n",
    "# <functuin name>()"
   ]
  },
  {
   "cell_type": "code",
   "execution_count": 1,
   "metadata": {},
   "outputs": [
    {
     "name": "stdout",
     "output_type": "stream",
     "text": [
      "Hellow World\n"
     ]
    }
   ],
   "source": [
    "def Print():\n",
    "    print(\"Hellow World\")\n",
    "    \n",
    "    \n",
    "Print()"
   ]
  },
  {
   "cell_type": "code",
   "execution_count": 2,
   "metadata": {},
   "outputs": [
    {
     "name": "stdout",
     "output_type": "stream",
     "text": [
      "Enter l =10\n",
      "Enter b =10\n",
      "the area is 100\n"
     ]
    }
   ],
   "source": [
    "def area():\n",
    "    l = int(input(\"Enter l =\")) #local variable\n",
    "    b = int(input(\"Enter b =\"))\n",
    "    a = l*b\n",
    "    print(\"the area is\",a)\n",
    "\n",
    "area()"
   ]
  },
  {
   "cell_type": "markdown",
   "metadata": {},
   "source": []
  },
  {
   "cell_type": "code",
   "execution_count": 8,
   "metadata": {},
   "outputs": [
    {
     "name": "stdout",
     "output_type": "stream",
     "text": [
      "Enter l =10\n",
      "Enter b =10\n",
      "the area is 100\n",
      "100\n"
     ]
    }
   ],
   "source": [
    "l = int(input(\"Enter l =\")) #global variable\n",
    "b = int(input(\"Enter b =\"))\n",
    "            \n",
    "def area():\n",
    "    global a\n",
    "    a = l*b\n",
    "    print(\"the area is\",a)\n",
    "\n",
    "area()\n",
    "print(a)"
   ]
  },
  {
   "cell_type": "markdown",
   "metadata": {},
   "source": []
  },
  {
   "cell_type": "code",
   "execution_count": 9,
   "metadata": {},
   "outputs": [],
   "source": [
    "# function with no arguments and no return type\n",
    "# function with arguments and no return type\n",
    "# function with no arguments and return type\n",
    "# function with arguments and return type"
   ]
  },
  {
   "cell_type": "code",
   "execution_count": 11,
   "metadata": {},
   "outputs": [
    {
     "name": "stdout",
     "output_type": "stream",
     "text": [
      "Hello World\n"
     ]
    }
   ],
   "source": [
    "def hello(x):\n",
    "    print(x)\n",
    "    \n",
    "hello(\"Hello World\")"
   ]
  },
  {
   "cell_type": "code",
   "execution_count": 1,
   "metadata": {},
   "outputs": [
    {
     "name": "stdout",
     "output_type": "stream",
     "text": [
      "Enter l =10\n",
      "Enter b =10\n",
      "100\n"
     ]
    }
   ],
   "source": [
    "# function with arguments and no return type\n",
    "def area(x,y): #parameter\n",
    "    a = x*y\n",
    "    print(a)\n",
    "    \n",
    "l = int(input(\"Enter l =\"))\n",
    "b = int(input(\"Enter b =\"))\n",
    "    \n",
    "\n",
    "area(l,b) #arguments"
   ]
  },
  {
   "cell_type": "markdown",
   "metadata": {},
   "source": [
    "# function with arguments and no return type\n",
    "l = int(input(\"Enter l =\"))\n",
    "b = int(input(\"Enter b =\"))\n",
    "\n",
    "\n",
    "def area(x,y): #parameter\n",
    "    a = x*y\n",
    "    print(a)\n",
    "    \n",
    "\n",
    "    \n",
    "area(l,b) #arguments"
   ]
  },
  {
   "cell_type": "code",
   "execution_count": 3,
   "metadata": {},
   "outputs": [
    {
     "name": "stdout",
     "output_type": "stream",
     "text": [
      "C\n",
      "C++\n",
      "Java\n",
      "python\n"
     ]
    }
   ],
   "source": [
    "def language(lan =\"python\"):\n",
    "    print(lan)\n",
    "    \n",
    "language(\"C\")\n",
    "language(\"C++\")\n",
    "language(\"Java\")\n",
    "language()"
   ]
  },
  {
   "cell_type": "code",
   "execution_count": 3,
   "metadata": {},
   "outputs": [
    {
     "name": "stdout",
     "output_type": "stream",
     "text": [
      "hello world\n"
     ]
    }
   ],
   "source": [
    "#function with no arguments and return type\n",
    "def hello():\n",
    "    return\"hello world\"\n",
    "\n",
    "print(hello())"
   ]
  },
  {
   "cell_type": "code",
   "execution_count": 4,
   "metadata": {},
   "outputs": [
    {
     "name": "stdout",
     "output_type": "stream",
     "text": [
      "hello world\n"
     ]
    }
   ],
   "source": [
    "#function with no arguments and return type\n",
    "def hello():\n",
    "    return\"hello world\"\n",
    "\n",
    "x = hello()\n",
    "print(x)"
   ]
  },
  {
   "cell_type": "code",
   "execution_count": 2,
   "metadata": {},
   "outputs": [
    {
     "name": "stdout",
     "output_type": "stream",
     "text": [
      "The area is = 20000\n",
      "600000\n"
     ]
    }
   ],
   "source": [
    "#function with no paramter and return type\n",
    "\n",
    "def area():\n",
    "    l = 1000\n",
    "    b = 20\n",
    "    a = l*b\n",
    "    return a\n",
    "ar = area()\n",
    "print(\"The area is =\",ar)\n",
    "h=30\n",
    "v=ar*h\n",
    "print(v)"
   ]
  },
  {
   "cell_type": "code",
   "execution_count": 1,
   "metadata": {},
   "outputs": [
    {
     "name": "stdout",
     "output_type": "stream",
     "text": [
      "The area is = 4000\n",
      "120000\n"
     ]
    }
   ],
   "source": [
    "#function with paramter and return type\n",
    "\n",
    "def area(x,y):\n",
    "\n",
    "    a = x*y\n",
    "    return a\n",
    "\n",
    "l=200\n",
    "b=20\n",
    "\n",
    "ar = area(l,b)\n",
    "print(\"The area is =\",ar)\n",
    "h=30\n",
    "v=ar*h\n",
    "print(v)"
   ]
  },
  {
   "cell_type": "code",
   "execution_count": null,
   "metadata": {},
   "outputs": [],
   "source": []
  }
 ],
 "metadata": {
  "kernelspec": {
   "display_name": "Python 3",
   "language": "python",
   "name": "python3"
  },
  "language_info": {
   "codemirror_mode": {
    "name": "ipython",
    "version": 3
   },
   "file_extension": ".py",
   "mimetype": "text/x-python",
   "name": "python",
   "nbconvert_exporter": "python",
   "pygments_lexer": "ipython3",
   "version": "3.8.5"
  }
 },
 "nbformat": 4,
 "nbformat_minor": 4
}
