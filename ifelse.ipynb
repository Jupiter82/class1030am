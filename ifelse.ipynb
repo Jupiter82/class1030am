{
 "cells": [
  {
   "cell_type": "code",
   "execution_count": 1,
   "metadata": {},
   "outputs": [],
   "source": [
    "# if <condition>:\n",
    "#     <operation>\n",
    "# elif<condition>:\n",
    "#     <operation>\n",
    "# elif<condition>:\n",
    "#     <operation>\n",
    "# else<condition>:\n",
    "#     <operation> "
   ]
  },
  {
   "cell_type": "code",
   "execution_count": 2,
   "metadata": {},
   "outputs": [],
   "source": [
    "# < > <= >= != =="
   ]
  },
  {
   "cell_type": "code",
   "execution_count": 3,
   "metadata": {},
   "outputs": [
    {
     "data": {
      "text/plain": [
       "False"
      ]
     },
     "execution_count": 3,
     "metadata": {},
     "output_type": "execute_result"
    }
   ],
   "source": [
    "a =10\n",
    "b =20\n",
    "a>b"
   ]
  },
  {
   "cell_type": "code",
   "execution_count": 4,
   "metadata": {},
   "outputs": [
    {
     "name": "stdout",
     "output_type": "stream",
     "text": [
      "20\n"
     ]
    }
   ],
   "source": [
    "a =10\n",
    "b =20\n",
    "\n",
    "if a<b:\n",
    "    print(b)\n",
    "    \n",
    "else:\n",
    "    print(a)\n"
   ]
  },
  {
   "cell_type": "code",
   "execution_count": 7,
   "metadata": {},
   "outputs": [
    {
     "name": "stdout",
     "output_type": "stream",
     "text": [
      "Enter the value of a =2\n",
      "Enter the value of b =2\n",
      "both are equal\n"
     ]
    }
   ],
   "source": [
    "a=int(input(\"Enter the value of a =\"))\n",
    "b=int(input(\"Enter the value of b =\"))\n",
    "if a>b:\n",
    "    print(\"a is greater\")\n",
    "elif b<a:\n",
    "    print(\"b is greater\")\n",
    "else:\n",
    "    print(\"both are equal\")"
   ]
  },
  {
   "cell_type": "markdown",
   "metadata": {},
   "source": []
  },
  {
   "cell_type": "code",
   "execution_count": 2,
   "metadata": {},
   "outputs": [
    {
     "name": "stdout",
     "output_type": "stream",
     "text": [
      "Enter the value of a =10\n",
      "Enter the value of b =10\n",
      "Enter the operator + - * / \n",
      "+\n",
      "20\n"
     ]
    }
   ],
   "source": [
    "\n",
    "a = int(input(\"Enter the value of a =\"))\n",
    "b = int(input(\"Enter the value of b =\"))\n",
    "o = input(\"Enter the operator + - * / \\n\")\n",
    "\n",
    "if o == '+':\n",
    "    print(a+b)\n",
    "\n",
    "elif o == '-':\n",
    "    print(a-b)\n",
    "\n",
    "elif o == '*':\n",
    "    print(a*b)\n",
    "    \n",
    "elif o == '/':\n",
    "    print(a/b)\n",
    "    \n",
    "else:\n",
    "    print(\"Invalid operator\")\n",
    "\n",
    "    "
   ]
  },
  {
   "cell_type": "code",
   "execution_count": 5,
   "metadata": {},
   "outputs": [
    {
     "name": "stdout",
     "output_type": "stream",
     "text": [
      "Enter the value of a =10\n",
      "Enter the value of b =0\n",
      "Enter the operator + - * / \n",
      "/\n",
      "the value of b cannot b 0\n"
     ]
    }
   ],
   "source": [
    "a = int(input(\"Enter the value of a =\"))\n",
    "b = int(input(\"Enter the value of b =\"))\n",
    "o = input(\"Enter the operator + - * / \\n\")\n",
    "\n",
    "if o == '+':\n",
    "    print(a+b)\n",
    "\n",
    "elif o == '-':\n",
    "    print(a-b)\n",
    "\n",
    "elif o == '*':\n",
    "    print(a*b)\n",
    "    \n",
    "elif o == '/':\n",
    "    \n",
    "    \n",
    "    if b!=0:\n",
    "        print(a/b)\n",
    "        \n",
    "    else:\n",
    "        print(\"the value of b cannot b 0\")\n",
    "    \n",
    "else:\n",
    "    print(\"Invalid operator\")\n",
    "\n",
    "    "
   ]
  },
  {
   "cell_type": "code",
   "execution_count": 7,
   "metadata": {},
   "outputs": [
    {
     "name": "stdout",
     "output_type": "stream",
     "text": [
      "Enter the value of a =1\n",
      "Enter the value of b =1\n",
      "Enter the value of c =1\n",
      "all three are equal\n"
     ]
    }
   ],
   "source": [
    "a=int(input(\"Enter the value of a =\"))\n",
    "b=int(input(\"Enter the value of b =\"))\n",
    "c=int(input(\"Enter the value of c =\"))\n",
    "if a>b and a>c:\n",
    "    print(\"a is greater\")\n",
    "elif b<a and b>c:\n",
    "    print(\"b is greater\")\n",
    "\n",
    "elif c>a and c>b:\n",
    "    print(\"c is greater\")\n",
    "\n",
    "else:\n",
    "    print(\"all three are equal\")\n",
    "    "
   ]
  },
  {
   "cell_type": "code",
   "execution_count": null,
   "metadata": {},
   "outputs": [],
   "source": [
    "a = int(input(\"Enter the value of a =\"))\n",
    "b = int(input(\"Enter the value of b =\"))\n",
    "o = input(\"Enter the operator + - * / \\n\")\n",
    "\n",
    "if o == '+':\n",
    "    print(a+b)\n",
    "\n",
    "elif o == '-':\n",
    "    print(a-b)\n",
    "\n",
    "elif o == '*':\n",
    "    print(a*b)\n",
    "    \n",
    "elif o == '/' and b!=0:\n",
    "        print(a/b)\n",
    "elif o == '/' and b==0:\n",
    "        print(\"the value of b cannot b 0\")\n",
    "    \n",
    "else:\n",
    "    print(\"Invalid operator\")\n",
    "\n",
    "    "
   ]
  },
  {
   "cell_type": "code",
   "execution_count": null,
   "metadata": {},
   "outputs": [],
   "source": [
    "#wap to make calculator using retirn type function"
   ]
  }
 ],
 "metadata": {
  "kernelspec": {
   "display_name": "Python 3",
   "language": "python",
   "name": "python3"
  },
  "language_info": {
   "codemirror_mode": {
    "name": "ipython",
    "version": 3
   },
   "file_extension": ".py",
   "mimetype": "text/x-python",
   "name": "python",
   "nbconvert_exporter": "python",
   "pygments_lexer": "ipython3",
   "version": "3.8.5"
  }
 },
 "nbformat": 4,
 "nbformat_minor": 4
}
