{
 "cells": [
  {
   "cell_type": "code",
   "execution_count": 2,
   "metadata": {},
   "outputs": [
    {
     "name": "stdout",
     "output_type": "stream",
     "text": [
      "Enter the value of a =10\n",
      "Enter the value of b =10\n",
      "Enter the operator + - * / \n",
      "+\n",
      "20\n"
     ]
    }
   ],
   "source": [
    "    \n",
    "def add(a,b):\n",
    "    add=a+b\n",
    "    print(add)\n",
    "    return add\n",
    "def minus(a,b):\n",
    "    minus=a-b\n",
    "    print(minus)\n",
    "    return minus\n",
    "def multiply(a,b):\n",
    "    multiply=a*b\n",
    "    print(multiply)\n",
    "    return multiply\n",
    "def divide(a,b):\n",
    "    divide=a/b\n",
    "    print(divide)\n",
    "    return divide\n",
    "\n",
    "a = int(input(\"Enter the value of a =\"))\n",
    "b = int(input(\"Enter the value of b =\"))\n",
    "o = input(\"Enter the operator + - * / \\n\")\n",
    "\n",
    "if o == '+':\n",
    "    add(a,b)\n",
    "\n",
    "elif o == '-':\n",
    "    minus(a,b)\n",
    "\n",
    "elif o == '*':\n",
    "    multipy(a,b)\n",
    "    \n",
    "    \n",
    "elif o == '/':\n",
    "    divide(a,b)\n",
    "    \n",
    "    \n",
    "else:\n",
    "    print(\"Invalid operator\")\n",
    "    \n",
    "\n",
    "        \n",
    "\n",
    "    "
   ]
  },
  {
   "cell_type": "code",
   "execution_count": null,
   "metadata": {},
   "outputs": [],
   "source": []
  },
  {
   "cell_type": "code",
   "execution_count": null,
   "metadata": {},
   "outputs": [],
   "source": []
  }
 ],
 "metadata": {
  "kernelspec": {
   "display_name": "Python 3",
   "language": "python",
   "name": "python3"
  },
  "language_info": {
   "codemirror_mode": {
    "name": "ipython",
    "version": 3
   },
   "file_extension": ".py",
   "mimetype": "text/x-python",
   "name": "python",
   "nbconvert_exporter": "python",
   "pygments_lexer": "ipython3",
   "version": "3.8.5"
  }
 },
 "nbformat": 4,
 "nbformat_minor": 4
}
