{
 "cells": [
  {
   "cell_type": "code",
   "execution_count": 2,
   "metadata": {},
   "outputs": [
    {
     "name": "stdout",
     "output_type": "stream",
     "text": [
      "The file is already there\n"
     ]
    }
   ],
   "source": [
    "try:\n",
    "    b = open(\"class1.30.txt\",\"x\")\n",
    "    b.close()\n",
    "except:\n",
    "    print(\"The file is already there\")"
   ]
  },
  {
   "cell_type": "code",
   "execution_count": 9,
   "metadata": {},
   "outputs": [
    {
     "name": "stdout",
     "output_type": "stream",
     "text": [
      "<class 'str'>\n",
      "1.hello world\n",
      "2.hello world\n",
      "3.hello world\n",
      "4.hello world\n",
      "5.hello world\n",
      "6.hello world\n",
      "7.hello world\n",
      "8.hello world\n",
      "9.hello world\n",
      "\n"
     ]
    }
   ],
   "source": [
    "b = open ('class1.30.txt','r')\n",
    "c = b.read()\n",
    "print(type(c))\n",
    "print(c)\n",
    "b.close()"
   ]
  },
  {
   "cell_type": "code",
   "execution_count": 18,
   "metadata": {},
   "outputs": [
    {
     "name": "stdout",
     "output_type": "stream",
     "text": [
      "1.hello world\n",
      "\n"
     ]
    }
   ],
   "source": [
    "b = open ('class1.30.txt','r')\n",
    "c = b.readline()\n",
    "\n",
    "print(c)\n",
    "b.close()"
   ]
  },
  {
   "cell_type": "code",
   "execution_count": 20,
   "metadata": {},
   "outputs": [
    {
     "name": "stdout",
     "output_type": "stream",
     "text": [
      "['1.hello world', '2.hello world', '3.hello world', '4.hello world', '5.hello world', '6.hello world', '7.hello world', '8.hello world', '9.hello world', '']\n"
     ]
    }
   ],
   "source": [
    "b = open('class1.30.txt','r')\n",
    "c = b.read()\n",
    "d = c.split('\\n')\n",
    "print(d)\n",
    "b.close()"
   ]
  },
  {
   "cell_type": "code",
   "execution_count": 29,
   "metadata": {},
   "outputs": [
    {
     "data": {
      "text/plain": [
       "['2.hello world',\n",
       " '3.hello world',\n",
       " '4.hello world',\n",
       " '5.hello world',\n",
       " '6.hello world']"
      ]
     },
     "execution_count": 29,
     "metadata": {},
     "output_type": "execute_result"
    }
   ],
   "source": [
    "d[1:6:1]"
   ]
  },
  {
   "cell_type": "code",
   "execution_count": 35,
   "metadata": {},
   "outputs": [
    {
     "name": "stdout",
     "output_type": "stream",
     "text": [
      "Enter n =1\n",
      "1.hello world\n",
      "\n"
     ]
    }
   ],
   "source": [
    "b = open ('class1.30.txt','r')\n",
    "\n",
    "n = int(input(\"Enter n =\"))\n",
    "for i in range(1,8):\n",
    "    if i != n:\n",
    "        b.readline()\n",
    "    else:\n",
    "        print(b.readline())\n",
    "b.close()"
   ]
  },
  {
   "cell_type": "code",
   "execution_count": 31,
   "metadata": {},
   "outputs": [
    {
     "name": "stdout",
     "output_type": "stream",
     "text": [
      "Enter n =2\n",
      "Enter the name =ram\n",
      "Enter the phone number =123123123\n",
      "Enter the name =shyam\n",
      "Enter the phone number =678678678\n",
      "ram--123123123\n",
      "shyam--678678678\n",
      "\n"
     ]
    }
   ],
   "source": [
    "s = \"\"\n",
    "n = int(input(\"Enter n =\"))\n",
    "for i in range(n):\n",
    "    name = input(\"Enter the name =\")\n",
    "    phone = int(input(\"Enter the phone number =\"))\n",
    "    info = f\"{name}--{phone}\\n\"\n",
    "    s=s+info\n",
    "print(s)\n",
    "b = open('data.txt','w')\n",
    "b.write(s)\n",
    "b.close()\n"
   ]
  },
  {
   "cell_type": "code",
   "execution_count": 41,
   "metadata": {},
   "outputs": [
    {
     "name": "stdout",
     "output_type": "stream",
     "text": [
      "Enter n =1\n",
      "Enter the name =ram\n",
      "Enter the phone number =909090\n",
      "ram,909090\n",
      "\n"
     ]
    }
   ],
   "source": [
    "s = \"\"\n",
    "b = open('data.csv','w')\n",
    "b.write('Name,Phone\\n')\n",
    "n = int(input(\"Enter n =\"))\n",
    "for i in range(n):\n",
    "    name = input(\"Enter the name =\")\n",
    "    phone = int(input(\"Enter the phone number =\"))\n",
    "    info = f\"{name},{phone}\\n\"\n",
    "    s=s+info\n",
    "print(s)\n",
    "\n",
    "b.write(s)\n",
    "b.close()\n"
   ]
  },
  {
   "cell_type": "code",
   "execution_count": null,
   "metadata": {},
   "outputs": [],
   "source": []
  }
 ],
 "metadata": {
  "kernelspec": {
   "display_name": "Python 3",
   "language": "python",
   "name": "python3"
  },
  "language_info": {
   "codemirror_mode": {
    "name": "ipython",
    "version": 3
   },
   "file_extension": ".py",
   "mimetype": "text/x-python",
   "name": "python",
   "nbconvert_exporter": "python",
   "pygments_lexer": "ipython3",
   "version": "3.8.5"
  }
 },
 "nbformat": 4,
 "nbformat_minor": 4
}
