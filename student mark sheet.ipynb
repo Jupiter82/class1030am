{
 "cells": [
  {
   "cell_type": "code",
   "execution_count": 4,
   "metadata": {},
   "outputs": [
    {
     "name": "stdout",
     "output_type": "stream",
     "text": [
      "Enter the number of student=1\n",
      "Enter the name of student =j\n",
      "Enter mark for math subject=100\n",
      "Enter mark for science subject =100\n",
      "Enter mark for nepali subject =100\n",
      "Enter mark for social subject =100\n",
      "Enter mark for english subject =100\n",
      "total =  500\n",
      " Marksheet of j.\n",
      " Mark in math is 100.\n",
      " Mark in science is 100.\n",
      " Mark in nepali is 100. \n",
      " Mark in social is 100. \n",
      " Mark in english is 100.\n",
      "percent =  100.0 %\n",
      "Grade A\n"
     ]
    }
   ],
   "source": [
    "n = int(input(\"Enter the number of student=\"))\n",
    "for i in range(n):\n",
    "    name = input(\"Enter the name of student =\")\n",
    "    math = int(input(\"Enter mark for math subject=\"))\n",
    "    science = int(input(\"Enter mark for science subject =\"))\n",
    "    nepali = int(input(\"Enter mark for nepali subject =\"))\n",
    "    social = int(input(\"Enter mark for social subject =\"))\n",
    "    english = int(input(\"Enter mark for english subject =\"))\n",
    "    \n",
    "    total = math+science+nepali+social+english\n",
    "    print(\"total = \",total)\n",
    "    marksheet = f\" Marksheet of {name}.\\n Mark in math is {math}.\\n Mark in science is {math}.\\n Mark in nepali is {nepali}. \\n Mark in social is {social}. \\n Mark in english is {english}.\"\n",
    "    print(marksheet)\n",
    "    percent = total/5\n",
    "    print(\"percent = \",percent,\"%\" )\n",
    "    \n",
    "    if percent<40:\n",
    "        print(\"fail\")\n",
    "    elif 40>percent<50:\n",
    "        print(\"Grade C\")\n",
    "    elif 50>percent<70:\n",
    "        print(\"Grade B\")\n",
    "    else:\n",
    "        print(\"Grade A\")"
   ]
  },
  {
   "cell_type": "markdown",
   "metadata": {},
   "source": [
    "# "
   ]
  },
  {
   "cell_type": "code",
   "execution_count": null,
   "metadata": {},
   "outputs": [],
   "source": []
  }
 ],
 "metadata": {
  "kernelspec": {
   "display_name": "Python 3",
   "language": "python",
   "name": "python3"
  },
  "language_info": {
   "codemirror_mode": {
    "name": "ipython",
    "version": 3
   },
   "file_extension": ".py",
   "mimetype": "text/x-python",
   "name": "python",
   "nbconvert_exporter": "python",
   "pygments_lexer": "ipython3",
   "version": "3.8.5"
  }
 },
 "nbformat": 4,
 "nbformat_minor": 4
}
