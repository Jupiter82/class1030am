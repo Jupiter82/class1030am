{
 "cells": [
  {
   "cell_type": "code",
   "execution_count": 2,
   "metadata": {},
   "outputs": [
    {
     "name": "stdout",
     "output_type": "stream",
     "text": [
      "Enter n = 1\n",
      "Enter name = banana\n",
      "Enter price = 1000\n",
      "Enter quantity 2\n",
      "The billing is = \n",
      " [['banana', 1000, 2, 2000]]\n",
      "The total =  2000\n"
     ]
    }
   ],
   "source": [
    "s = []\n",
    "all_total = 0\n",
    "n = int(input(\"Enter n = \"))\n",
    "for i in range(n):\n",
    "    product = input(\"Enter name = \")\n",
    "    price = int(input(\"Enter price = \"))\n",
    "    quantity = int(input(\"Enter quantity \"))\n",
    "    total = price*quantity\n",
    "    data = [[product,price,quantity,total]]\n",
    "    all_total = all_total+total\n",
    "    s = s+data\n",
    "    \n",
    "print(\"The billing is = \\n\",s)\n",
    "print(\"The total = \",all_total)"
   ]
  },
  {
   "cell_type": "code",
   "execution_count": 3,
   "metadata": {},
   "outputs": [
    {
     "name": "stdout",
     "output_type": "stream",
     "text": [
      "Enter the data= apple\n",
      "['apple', 1000, 2, 2000]\n"
     ]
    }
   ],
   "source": [
    "a = [['banana', 1000, 2, 2000],['apple', 1000, 2, 2000]]\n",
    "name = input(\"Enter the data= \")\n",
    "for i in a:\n",
    "    if name.lower() in i[0].lower():\n",
    "        print(i)"
   ]
  },
  {
   "cell_type": "code",
   "execution_count": 21,
   "metadata": {},
   "outputs": [
    {
     "name": "stdout",
     "output_type": "stream",
     "text": [
      "Enter the name = pineaplle\n",
      "Enter the price = 1000\n",
      "Enter quantity = 1\n",
      "[['banana', 1000, 2, 2000], ['apple', 1000, 2, 2000], ['pineaplle', 1000, 1, 1000]]\n"
     ]
    }
   ],
   "source": [
    "name = input(\"Enter the name = \")\n",
    "price = int(input(\"Enter the price = \"))\n",
    "quantity= int(input(\"Enter quantity = \"))\n",
    "total = price*quantity\n",
    "a = [['banana', 1000, 2, 2000],['apple', 1000, 2, 2000]]\n",
    "a.append([name,price,quantity,total])\n",
    "print(a)\n"
   ]
  },
  {
   "cell_type": "code",
   "execution_count": 22,
   "metadata": {},
   "outputs": [
    {
     "name": "stdout",
     "output_type": "stream",
     "text": [
      "Enter index =0\n",
      "[['apple', 1000, 2, 2000], ['pineaplle', 1000, 1, 1000]]\n"
     ]
    }
   ],
   "source": [
    "index = int(input(\"Enter index =\"))\n",
    "del a[index]\n",
    "print(a)"
   ]
  },
  {
   "cell_type": "code",
   "execution_count": 23,
   "metadata": {},
   "outputs": [
    {
     "name": "stdout",
     "output_type": "stream",
     "text": [
      "3000\n"
     ]
    }
   ],
   "source": [
    "total = 0\n",
    "for i in a:\n",
    "    x= i[3]\n",
    "    total =total +x\n",
    "print(total)\n",
    "    "
   ]
  },
  {
   "cell_type": "code",
   "execution_count": 5,
   "metadata": {},
   "outputs": [
    {
     "name": "stdout",
     "output_type": "stream",
     "text": [
      "Enter index =2\n",
      "Enter quantity2\n",
      "the new bill is = [['banana', 1000, 2, 2000], ['apple', 1000, 2, 2000], ['pineaplle', 1000, 2, 2000]]\n",
      "total bill is = 6000\n"
     ]
    }
   ],
   "source": [
    "s = [['banana', 1000, 2, 2000], ['apple', 1000, 2, 2000], ['pineaplle', 1000, 1, 1000]]\n",
    "index = int(input(\"Enter index =\"))\n",
    "quantity = int(input(\"Enter quantity\"))\n",
    "total = s [index][1]*quantity\n",
    "\n",
    "s[index][2] = quantity\n",
    "s[index][3] = total\n",
    "    \n",
    "print(\"the new bill is =\",s)\n",
    "\n",
    "net_total = 0\n",
    "for i in s:\n",
    "    x= i[3]\n",
    "    net_total = net_total + x\n",
    "print(\"total bill is =\",net_total)"
   ]
  },
  {
   "cell_type": "code",
   "execution_count": 2,
   "metadata": {},
   "outputs": [
    {
     "name": "stdout",
     "output_type": "stream",
     "text": [
      "Enter value of r =3\n",
      "Enter value of c =2\n",
      "enter value of x =10\n",
      "enter value of x =20\n",
      "enter value of x =30\n",
      "enter value of x =40\n",
      "enter value of x =50\n",
      "enter value of x =60\n",
      "[[10, 20], [30, 40], [50, 60]]\n"
     ]
    }
   ],
   "source": [
    "z= []\n",
    "r = int(input(\"Enter value of r =\")) #for row [[],[]]\n",
    "c = int(input(\"Enter value of c =\")) #for coloum [],[],[]\n",
    "\n",
    "for i in range(r):\n",
    "    y=[]\n",
    "    for j in range(c):\n",
    "        x = int(input(\"enter value of x =\"))\n",
    "        y.append(x)\n",
    "    z.append(y)\n",
    "        \n",
    "print(z)"
   ]
  },
  {
   "cell_type": "code",
   "execution_count": null,
   "metadata": {},
   "outputs": [],
   "source": []
  }
 ],
 "metadata": {
  "kernelspec": {
   "display_name": "Python 3",
   "language": "python",
   "name": "python3"
  },
  "language_info": {
   "codemirror_mode": {
    "name": "ipython",
    "version": 3
   },
   "file_extension": ".py",
   "mimetype": "text/x-python",
   "name": "python",
   "nbconvert_exporter": "python",
   "pygments_lexer": "ipython3",
   "version": "3.8.5"
  }
 },
 "nbformat": 4,
 "nbformat_minor": 4
}
